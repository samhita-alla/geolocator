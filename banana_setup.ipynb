{
 "cells": [
  {
   "cell_type": "code",
   "execution_count": null,
   "metadata": {},
   "outputs": [],
   "source": [
    "%pip install -r requirements.txt"
   ]
  },
  {
   "cell_type": "code",
   "execution_count": null,
   "metadata": {},
   "outputs": [],
   "source": [
    "sh = \"\"\"\n",
    "URL=\"https://github.com/samhita-alla/GeoEstimation.git\"\n",
    "FOLDER=\"GeoEstimation\"\n",
    "if [ ! -d \"$FOLDER\" ] ; then\n",
    "    git clone $URL $FOLDER\n",
    "else\n",
    "    cd \"$FOLDER\"\n",
    "    git pull $URL\n",
    "fi\n",
    "\"\"\"\n",
    "\n",
    "with open(\"clone_script.sh\", \"w\") as file:\n",
    "  file.write(sh)\n",
    "\n",
    "!bash clone_script.sh"
   ]
  },
  {
   "cell_type": "code",
   "execution_count": null,
   "metadata": {},
   "outputs": [],
   "source": [
    "import shutil\n",
    "\n",
    "shutil.copy(\"services/banana/app.py\", \"GeoEstimation\")\n",
    "shutil.copy(\"app/post_processing.py\", \"GeoEstimation\")\n",
    "shutil.copy(\"app/pre_processing.py\", \"GeoEstimation\")\n",
    "shutil.copy(\"services/banana/server.py\", \"GeoEstimation\")\n",
    "shutil.copy(\"services/banana/geolocator.onnx\", \"GeoEstimation\")"
   ]
  },
  {
   "cell_type": "code",
   "execution_count": null,
   "metadata": {},
   "outputs": [],
   "source": [
    "%cd GeoEstimation"
   ]
  },
  {
   "cell_type": "code",
   "execution_count": null,
   "metadata": {},
   "outputs": [],
   "source": [
    "!python server.py"
   ]
  },
  {
   "cell_type": "code",
   "execution_count": null,
   "metadata": {},
   "outputs": [],
   "source": []
  }
 ],
 "metadata": {
  "kernelspec": {
   "display_name": "Python 3.10.4 64-bit ('3.10.4')",
   "language": "python",
   "name": "python3"
  },
  "language_info": {
   "codemirror_mode": {
    "name": "ipython",
    "version": 3
   },
   "file_extension": ".py",
   "mimetype": "text/x-python",
   "name": "python",
   "nbconvert_exporter": "python",
   "pygments_lexer": "ipython3",
   "version": "3.10.4"
  },
  "orig_nbformat": 4,
  "vscode": {
   "interpreter": {
    "hash": "32cb79c03094ec1a000739a4dfae87fcaf0572d0015ee371037061d963212191"
   }
  }
 },
 "nbformat": 4,
 "nbformat_minor": 2
}
